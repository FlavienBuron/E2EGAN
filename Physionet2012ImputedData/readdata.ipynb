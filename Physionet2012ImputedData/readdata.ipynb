{
 "cells": [
  {
   "cell_type": "code",
   "execution_count": 3,
   "metadata": {},
   "outputs": [],
   "source": [
    "f=open('../set-a/train/132539.txt')\n",
    "dic={'time':-1,'Age':0,'Gender':1,'Height':2,'ICUType':3,'Weight':4,'Albumin':5,\\\n",
    "             'ALP':6,'ALT':7,'AST':8,'Bilirubin':9,'BUN':10,'Cholesterol':11,'Creatinine':12,\\\n",
    "             'DiasABP':13,'FiO2':14,'GCS':15,'Glucose':16,'HCO3':17,'HCT':18,'HR':19,\\\n",
    "             'K':20,'Lactate':21,'Mg':22,'MAP':23,'MechVent':24,'Na':25,'NIDiasABP':26,\\\n",
    "             'NIMAP':27,'NISysABP':28,'PaCO2':29,'PaO2':30,'pH':31,'Platelets':32,'RespRate':33,\\\n",
    "             'SaO2':34,'SysABP':35,'Temp':36,'TroponinI':37,'TroponinT':38,'Urine':39,'WBC':40}\n",
    "\n",
    "mean=[0.0]*(len(dic)-1)\n",
    "meancount=[0]*(len(dic)-1)\n",
    "x=[]\n",
    "times=[]\n",
    "non_in_dic_count=0\n",
    "count=0\n",
    "age=gender=height=icutype=weight=-1\n",
    "lastTime=0\n",
    "totalData=[]\n",
    "t_times=[]\n",
    "for line in f.readlines():\n",
    "    if count > 1:\n",
    "        words=line.strip().split(\",\")\n",
    "        timestamp=words[0]\n",
    "        feature=words[1]\n",
    "        value=words[2]\n",
    "                    \n",
    "        # 0 is missing value,orignl gender is 0/1 ,after preprocessing\n",
    "        # gender is 0/1/2(missing,male,female)\n",
    "        if timestamp == \"00:00\":\n",
    "            if feature=='Age':\n",
    "                age=\"0\" if value==\"-1\" else value\n",
    "                #calcuate mean\n",
    "                if age !=\"0\":\n",
    "                    mean[dic[feature]]+=float(age)\n",
    "                    meancount[dic[feature]]+=1\n",
    "            if feature=='Gender':\n",
    "                if value==\"-1\":\n",
    "                    gender=\"0\"\n",
    "                if value==\"0\":\n",
    "                    gender=\"1\"\n",
    "                if value==\"1\":\n",
    "                    gender=\"2\"\n",
    "                #calcuate mean\n",
    "                if gender !=\"0\":\n",
    "                    mean[dic[feature]]+=float(gender)\n",
    "                    meancount[dic[feature]]+=1\n",
    "            if feature=='Height':\n",
    "                height=\"0\" if value==\"-1\" else value\n",
    "                #calcuate mean\n",
    "                if height !=\"0\":\n",
    "                    mean[dic[feature]]+=float(height)\n",
    "                    meancount[dic[feature]]+=1\n",
    "            if feature == 'ICUType':\n",
    "                icutype=\"0\" if value==\"-1\" else value\n",
    "                #calcuate mean\n",
    "                if icutype !=\"0\":\n",
    "                    mean[dic[feature]]+=float(icutype)\n",
    "                    meancount[dic[feature]]+=1\n",
    "            if feature=='Weight':\n",
    "                weight=\"0\" if value==\"-1\" else value\n",
    "                #calcuate mean\n",
    "                if weight !=\"0\":\n",
    "                    mean[dic[feature]]+=float(weight)\n",
    "                    meancount[dic[feature]]+=1\n",
    "        else:\n",
    "            if timestamp!=lastTime:\n",
    "                data=[0.0]*(len(dic)-1)\n",
    "                hourandminute=timestamp.split(\":\")\n",
    "                t_times.append(float(hourandminute[0])*60+float(hourandminute[1]))\n",
    "                data[0]=float(age)\n",
    "                data[1]=float(gender)\n",
    "                data[2]=float(height)\n",
    "                data[3]=float(icutype)\n",
    "                data[4]=float(weight)\n",
    "                    \n",
    "                data[dic[feature]]=float(value)\n",
    "                mean[dic[feature]]+=float(value)\n",
    "                meancount[dic[feature]]+=1\n",
    "                    \n",
    "                totalData.append(data)\n",
    "            else:\n",
    "                    \n",
    "                totalData[-1][dic[feature]]=float(value)\n",
    "                mean[dic[feature]]+=float(value)\n",
    "                meancount[dic[feature]]+=1\n",
    "                    \n",
    "                    \n",
    "        lastTime=timestamp      \n",
    "    count+=1\n",
    "                #if len(totalData)==24:\n",
    "                #    break;\n",
    "            \n",
    "x.append(totalData)\n",
    "times.append(t_times)\n",
    "f.close()\n",
    "def timeslicing(times, x, isSlicing,sliceGap):\n",
    "        #slicing x, make time gap be 30min, get the average of 30min\n",
    "        if not isSlicing:\n",
    "            return\n",
    "        else:\n",
    "            newx=[]\n",
    "            newtimes=[]\n",
    "            for i in range(len(times)):\n",
    "                nowx=x[i]\n",
    "                nowtime=times[i]\n",
    "                lasttime=0\n",
    "                newnowx=[]\n",
    "                newnowtime=[]\n",
    "                count=[0.0]*(len(dic)-1)\n",
    "                tempx=[0.0]*(len(dic)-1)\n",
    "                #newnowx.append(tempx)\n",
    "                #newnowtime.append(lasttime)\n",
    "                nowtime.append(48*60+2)\n",
    "                for j in range(len(nowtime)):\n",
    "                    if nowtime[j]<=lasttime+sliceGap:\n",
    "                        for k in range(0,len(dic)-1):\n",
    "                            tempx[k]+=nowx[j][k]\n",
    "                            if nowx[j][k]!=0:\n",
    "                                count[k]+=1.0\n",
    "                    else:\n",
    "                        for k in range(0,len(dic)-1):\n",
    "                            if count[k]==0:\n",
    "                                count[k]=1.0\n",
    "                            tempx[k]=tempx[k]/count[k]\n",
    "                        while nowtime[j]>lasttime+sliceGap:\n",
    "                            newnowx.append(tempx)\n",
    "                            newnowtime.append(lasttime)\n",
    "                            lasttime+=sliceGap\n",
    "                            count=[0.0]*(len(dic)-1)\n",
    "                            tempx=[0.0]*(len(dic)-1)\n",
    "                        # j may be len(nowx), we add one point into nowtime before\n",
    "                        if j<len(nowx):\n",
    "                            for k in range(0,len(dic)-1):\n",
    "                                tempx[k]+=nowx[j][k]\n",
    "                                if nowx[j][k]!=0:\n",
    "                                    count[k]+=1.0\n",
    "                \n",
    "                for j in range(len(newnowtime)):\n",
    "                    if newnowx[j][0]==0:\n",
    "                        newnowx[j][0]=nowx[0][0]\n",
    "                    if newnowx[j][1]==0:\n",
    "                        newnowx[j][1]=nowx[0][1]\n",
    "                    if newnowx[j][2]==0:\n",
    "                        newnowx[j][2]=nowx[0][2]\n",
    "                    if newnowx[j][3]==0:\n",
    "                        newnowx[j][3]=nowx[0][3]\n",
    "                    if newnowx[j][4]==0:\n",
    "                        newnowx[j][4]=nowx[0][4]\n",
    "                            \n",
    "                nowtime.pop(-1)\n",
    "                newx.append(newnowx)\n",
    "                newtimes.append(newnowtime)\n",
    "            x=newx\n",
    "            times=newtimes\n",
    "        return x, times"
   ]
  },
  {
   "cell_type": "code",
   "execution_count": 4,
   "metadata": {},
   "outputs": [],
   "source": [
    "x1, times1 = timeslicing(times, x, True, 60)"
   ]
  },
  {
   "cell_type": "code",
   "execution_count": null,
   "metadata": {},
   "outputs": [],
   "source": []
  },
  {
   "cell_type": "code",
   "execution_count": 5,
   "metadata": {},
   "outputs": [],
   "source": [
    "def normalization(x, std, mean, isNormal):\n",
    "        if not isNormal:\n",
    "            return\n",
    "        for i in range(len(x)):\n",
    "            for j in range(len(x[i])):\n",
    "                for k in range(len(x[i][j])):\n",
    "                    if x[i][j][k] != 0:\n",
    "                        if std[k]==0:\n",
    "                            x[i][j][k]=0.0\n",
    "                        else:\n",
    "                            x[i][j][k]=1.0/std[k]*(x[i][j][k]-mean[k])\n",
    "        return x"
   ]
  },
  {
   "cell_type": "code",
   "execution_count": 6,
   "metadata": {},
   "outputs": [],
   "source": [
    "import math\n",
    "for i in range(len(mean)):\n",
    "    if meancount[i]!=0:\n",
    "        mean[i]=mean[i]/meancount[i]\n",
    "# self.mean=mean\n",
    "# normalization\n",
    "m=[] # mask 0/1\n",
    "# first calculate std\n",
    "std=[0.0]*(len(dic)-1)\n",
    "for onefile in x1:\n",
    "    one_m=[]\n",
    "    for oneclass in onefile:\n",
    "        t_m=[0]*len(oneclass)\n",
    "        for j in range(len(oneclass)):\n",
    "            if oneclass[j] !=0:\n",
    "                std[j]+=(oneclass[j]-mean[j])**2\n",
    "                t_m[j]=1\n",
    "        one_m.append(t_m)\n",
    "    m.append(one_m)\n",
    "for j in range(len(std)):\n",
    "    if std[j] != 0 and meancount[j] != 1:\n",
    "        std[j]=math.sqrt(1.0/(meancount[j]-1)*std[j])\n",
    "        \n",
    "isNormal=True\n",
    "x = normalization(x1, std, mean, isNormal)\n",
    "\n"
   ]
  },
  {
   "cell_type": "code",
   "execution_count": 7,
   "metadata": {},
   "outputs": [],
   "source": [
    "x_lengths=[] #\n",
    "deltaPre=[] #time difference \n",
    "lastvalues=[] # if missing, last values\n",
    "deltaSub=[]\n",
    "subvalues=[]\n",
    "for h in range(len(x)):\n",
    "    # oneFile: steps*value_number\n",
    "    oneFile=x[h]\n",
    "    one_time=times[h]\n",
    "    x_lengths.append(len(oneFile))\n",
    "    \n",
    "    one_deltaPre=[]\n",
    "    one_lastvalues=[]\n",
    "    \n",
    "    one_deltaSub=[]\n",
    "    one_subvalues=[]\n",
    "    \n",
    "    one_m=m[h]\n",
    "    for i in range(len(oneFile)):\n",
    "        t_deltaPre=[0.0]*len(oneFile[i])\n",
    "        t_lastvalue=[0.0]*len(oneFile[i])\n",
    "        one_deltaPre.append(t_deltaPre)\n",
    "        one_lastvalues.append(t_lastvalue)\n",
    "        \n",
    "        if i==0:\n",
    "            for j in range(len(oneFile[i])):\n",
    "                one_lastvalues[i][j]=0.0 if one_m[i][j]==0 else oneFile[i][j]\n",
    "            continue\n",
    "        \n",
    "        for j in range(len(oneFile[i])):\n",
    "            if one_m[i-1][j]==1:\n",
    "                one_deltaPre[i][j]=one_time[i]-one_time[i-1]\n",
    "            if one_m[i-1][j]==0:\n",
    "                one_deltaPre[i][j]=one_time[i]-one_time[i-1]+one_deltaPre[i-1][j]\n",
    "                \n",
    "            if one_m[i][j]==1:\n",
    "                one_lastvalues[i][j]=oneFile[i][j]\n",
    "            if one_m[i][j]==0:\n",
    "                one_lastvalues[i][j]=one_lastvalues[i-1][j]\n",
    "\n",
    "    for i in range(len(oneFile)):\n",
    "        t_deltaSub=[0.0]*len(oneFile[i])\n",
    "        t_subvalue=[0.0]*len(oneFile[i])\n",
    "        one_deltaSub.append(t_deltaSub)\n",
    "        one_subvalues.append(t_subvalue)\n",
    "    #construct array \n",
    "    for i in range(len(oneFile)-1,-1,-1):    \n",
    "        if i==len(oneFile)-1:\n",
    "            for j in range(len(oneFile[i])):\n",
    "                one_subvalues[i][j]=0.0 if one_m[i][j]==0 else oneFile[i][j]\n",
    "            continue\n",
    "        for j in range(len(oneFile[i])):\n",
    "            if one_m[i+1][j]==1:\n",
    "                one_deltaSub[i][j]=one_time[i+1]-one_time[i]\n",
    "            if one_m[i+1][j]==0:\n",
    "                one_deltaSub[i][j]=one_time[i+1]-one_time[i]+one_deltaSub[i+1][j]\n",
    "                \n",
    "            if one_m[i][j]==1:\n",
    "                one_subvalues[i][j]=oneFile[i][j]\n",
    "            if one_m[i][j]==0:\n",
    "                one_subvalues[i][j]=one_subvalues[i+1][j]   \n",
    "        \n",
    "    \n",
    "    #m.append(one_m)\n",
    "    deltaPre.append(one_deltaPre)\n",
    "    lastvalues.append(one_lastvalues)\n",
    "    deltaSub.append(one_deltaSub)\n",
    "    subvalues.append(one_subvalues)"
   ]
  },
  {
   "cell_type": "code",
   "execution_count": 221,
   "metadata": {},
   "outputs": [
    {
     "data": {
      "text/plain": [
       "[60.0,\n",
       " 60.0,\n",
       " 90.0,\n",
       " 60.0,\n",
       " 90.0,\n",
       " 90.0,\n",
       " 90.0,\n",
       " 90.0,\n",
       " 90.0,\n",
       " 90.0,\n",
       " 90.0,\n",
       " 90.0,\n",
       " 90.0,\n",
       " 90.0,\n",
       " 90.0,\n",
       " 90.0,\n",
       " 90.0,\n",
       " 90.0,\n",
       " 90.0,\n",
       " 60.0,\n",
       " 90.0,\n",
       " 90.0,\n",
       " 90.0,\n",
       " 90.0,\n",
       " 90.0,\n",
       " 90.0,\n",
       " 60.0,\n",
       " 60.0,\n",
       " 60.0,\n",
       " 90.0,\n",
       " 90.0,\n",
       " 90.0,\n",
       " 90.0,\n",
       " 60.0,\n",
       " 90.0,\n",
       " 90.0,\n",
       " 90.0,\n",
       " 90.0,\n",
       " 90.0,\n",
       " 60.0,\n",
       " 90.0]"
      ]
     },
     "execution_count": 221,
     "metadata": {},
     "output_type": "execute_result"
    }
   ],
   "source": [
    "deltaPre[0][2]"
   ]
  },
  {
   "cell_type": "code",
   "execution_count": 219,
   "metadata": {},
   "outputs": [
    {
     "data": {
      "text/plain": [
       "[1,\n",
       " 1,\n",
       " 0,\n",
       " 1,\n",
       " 0,\n",
       " 0,\n",
       " 0,\n",
       " 0,\n",
       " 0,\n",
       " 0,\n",
       " 0,\n",
       " 0,\n",
       " 0,\n",
       " 0,\n",
       " 0,\n",
       " 0,\n",
       " 0,\n",
       " 0,\n",
       " 0,\n",
       " 1,\n",
       " 0,\n",
       " 0,\n",
       " 0,\n",
       " 0,\n",
       " 0,\n",
       " 0,\n",
       " 1,\n",
       " 1,\n",
       " 1,\n",
       " 0,\n",
       " 0,\n",
       " 0,\n",
       " 0,\n",
       " 1,\n",
       " 0,\n",
       " 0,\n",
       " 0,\n",
       " 0,\n",
       " 0,\n",
       " 1,\n",
       " 0]"
      ]
     },
     "execution_count": 219,
     "metadata": {},
     "output_type": "execute_result"
    }
   ],
   "source": [
    "m[0][1]"
   ]
  },
  {
   "cell_type": "code",
   "execution_count": 220,
   "metadata": {},
   "outputs": [
    {
     "data": {
      "text/plain": [
       "[1,\n",
       " 1,\n",
       " 0,\n",
       " 1,\n",
       " 0,\n",
       " 0,\n",
       " 0,\n",
       " 0,\n",
       " 0,\n",
       " 0,\n",
       " 0,\n",
       " 0,\n",
       " 0,\n",
       " 0,\n",
       " 0,\n",
       " 0,\n",
       " 0,\n",
       " 0,\n",
       " 0,\n",
       " 1,\n",
       " 0,\n",
       " 0,\n",
       " 0,\n",
       " 0,\n",
       " 0,\n",
       " 0,\n",
       " 1,\n",
       " 1,\n",
       " 1,\n",
       " 0,\n",
       " 0,\n",
       " 0,\n",
       " 0,\n",
       " 1,\n",
       " 0,\n",
       " 0,\n",
       " 0,\n",
       " 0,\n",
       " 0,\n",
       " 1,\n",
       " 0]"
      ]
     },
     "execution_count": 220,
     "metadata": {},
     "output_type": "execute_result"
    }
   ],
   "source": [
    "m[0][2]"
   ]
  },
  {
   "cell_type": "code",
   "execution_count": 8,
   "metadata": {},
   "outputs": [
    {
     "data": {
      "text/plain": [
       "array([[-1.,  0.],\n",
       "       [ 1.,  2.]])"
      ]
     },
     "execution_count": 8,
     "metadata": {},
     "output_type": "execute_result"
    }
   ],
   "source": [
    "import numpy as np\n",
    "\n",
    "x1 = np.arange(9.0).reshape(3,3)\n",
    "x2 = np.arange(-1.0, 3.0).reshape(2, 2)\n",
    "x2"
   ]
  },
  {
   "cell_type": "code",
   "execution_count": 227,
   "metadata": {},
   "outputs": [
    {
     "name": "stdout",
     "output_type": "stream",
     "text": [
      "10\n",
      "9\n",
      "8\n",
      "7\n",
      "6\n",
      "5\n",
      "4\n",
      "3\n",
      "2\n",
      "1\n",
      "0\n"
     ]
    }
   ],
   "source": [
    "for i in range(10, -1, -1):\n",
    "    print(i)"
   ]
  },
  {
   "cell_type": "code",
   "execution_count": 9,
   "metadata": {},
   "outputs": [],
   "source": [
    "NB_FEATURES = 1\n",
    "chlorine = np.loadtxt(\"../in/chlorine_m100.txt\")\n",
    "input = chlorine\n",
    "mean = [0.0]*NB_FEATURES\n",
    "meancount = [0]*NB_FEATURES\n",
    "x = []\n",
    "times = []\n",
    "\n",
    "for row in input.transpose():\n",
    "    # transpose input so each timeseries are rows\n",
    "\n",
    "    t = 0\n",
    "    totalData = []\n",
    "    t_times = []\n",
    "    for value in row:\n",
    "        timestamp = t\n",
    "        t_times.append(float(timestamp))\n",
    "        totalData.append([float(value)])\n",
    "        if not np.isnan(value):\n",
    "            mean[0] += float(value)\n",
    "            meancount[0] += 1\n",
    "        t += (1)\n",
    "        \n",
    "    x.append(totalData)\n",
    "    times.append(t_times)\n",
    "\n",
    "for i in range(len(mean)):\n",
    "    if meancount[i] != 0:\n",
    "        mean[i] = mean[i]/meancount[i]\n",
    "import math\n",
    "isNormal = False\n",
    "m = []\n",
    "\n",
    "std = [0.0]*NB_FEATURES\n",
    "for ts in x:\n",
    "    ts_m = []\n",
    "    for values in ts:\n",
    "        v_m = ~np.isnan(values)\n",
    "        if isNormal:\n",
    "            for i in range(len(values)):\n",
    "                if not np.isnan(value[i]):\n",
    "                    std[i] += (value[i] - mean[i])**2\n",
    "        ts_m.append(v_m)\n",
    "    m.append(ts_m)\n",
    "\n",
    "for i in range(len(std)):\n",
    "    std[i] = math.sqrt(1.0/(meancount[i-1])*std[i])\n",
    "\n",
    "# isNormal = isNormal\n",
    "\n",
    "\n",
    "def normalization(x, mean, std,isNormal):\n",
    "    new_x = []\n",
    "    if not isNormal:\n",
    "        return\n",
    "    for ts in range(len(x)):\n",
    "        new_ts = []\n",
    "        for value in x[ts]:\n",
    "            if value != np.nan:\n",
    "                if std==0:\n",
    "                    new_ts.append(0.0)\n",
    "                else:\n",
    "                    new_ts.append(1.0/std*(value-mean))\n",
    "        new_x.append(new_ts)\n",
    "    return new_x\n",
    "\n",
    "normalization(x, mean, std, isNormal)\n",
    "\n",
    "x_lengths = [] \n",
    "deltaPre = [] #time difference\n",
    "lastvalues= [] # last observed value\n",
    "deltaSub = [] # time difference in backward direction\n",
    "subvalues = [] # last value in backward direction ?\n",
    "for idx in range(len(x)):\n",
    "    time_serie = x[idx]\n",
    "    time = times[idx]\n",
    "    x_lengths.append(len(time_serie))\n",
    "\n",
    "    ts_deltaPre = []\n",
    "    ts_lastvalues = []\n",
    "\n",
    "    ts_deltaSub = []\n",
    "    ts_subvalues = []\n",
    "\n",
    "    ts_m = m[idx]\n",
    "\n",
    "    for i in range(len(time_serie)):\n",
    "        t_deltaSub = [0.0]*NB_FEATURES\n",
    "        t_lastvalue = [0.0]*NB_FEATURES\n",
    "        ts_deltaPre.append(t_deltaSub)\n",
    "        ts_lastvalues.append(t_lastvalue)\n",
    "\n",
    "        if i == 0:\n",
    "            for j in range(len(time_serie[i])):\n",
    "                ts_lastvalues[i][j]=0.0 if ts_m[i][j]==0 else time_serie[i][j]\n",
    "            continue\n",
    "        \n",
    "        for j in range(len(time_serie[i])):\n",
    "            if ts_m[i-1][j]==1: # if previous value was not a missing value\n",
    "                ts_deltaPre[i][j]=time[i]-time[i-1]\n",
    "            else: # else was missing\n",
    "                ts_deltaPre[i][j] = time[i]-time[i-1] + ts_deltaPre[i-1][j]\n",
    "\n",
    "            if ts_m[i][j]==1:\n",
    "                ts_lastvalues[i][j] = time_serie[i][j]\n",
    "            else:\n",
    "                ts_lastvalues[i][j] = ts_lastvalues[i-1][j]\n",
    "    \n",
    "\n",
    "    for i in range(len(time_serie)):\n",
    "        t_deltaSub = [0.0]*NB_FEATURES\n",
    "        t_subvalues = [0.0]*NB_FEATURES\n",
    "        ts_deltaSub.append(t_deltaSub)\n",
    "        ts_subvalues.append(t_subvalues)\n",
    "    # go in backward direction\n",
    "    for i in range(len(time_serie)-1, -1, -1):\n",
    "        if i == len(time_serie)-1:\n",
    "            for j in range(len(time_serie[i])):\n",
    "                ts_subvalues[i][j]=0.0 if ts_m[i][j]==0 else time_serie[i][j]\n",
    "            continue\n",
    "        for j in range(len(time_serie[i])):\n",
    "            if ts_m[i+1][j] == 1:\n",
    "                ts_deltaSub[i][j] = time[i+1] - time[i]\n",
    "            else:\n",
    "                ts_deltaSub[i][j] = time[i+1] - time[i] + ts_deltaSub[i+1][j]\n",
    "\n",
    "        if ts_m[i][j] == 1:\n",
    "            ts_subvalues[i][j]=time_serie[i][j]\n",
    "        else:\n",
    "            ts_subvalues[i][j] = ts_subvalues[i+1][j]\n",
    "\n",
    "    deltaPre.append(ts_deltaPre)\n",
    "    lastvalues.append(ts_lastvalues)\n",
    "    deltaSub.append(ts_deltaSub)\n",
    "    subvalues.append(ts_subvalues)"
   ]
  },
  {
   "cell_type": "code",
   "execution_count": 314,
   "metadata": {},
   "outputs": [],
   "source": [
    "INPUT_LENGTH = 40\n",
    "\n",
    "slice_start = 0\n",
    "slice_end = INPUT_LENGTH\n",
    "first_col = True\n",
    "sliced_x = []\n",
    "sliced_m = []\n",
    "sliced_lengths = []\n",
    "sliced_deltaPre = []\n",
    "sliced_lastvalues = []\n",
    "sliced_deltaSub = []\n",
    "sliced_subvalues = []\n",
    "\n",
    "x_arr = np.array(x)\n",
    "m_arr = np.array(m)\n",
    "x_lengths_arr = np.array(x_lengths)\n",
    "deltaPre_arr = np.array(deltaPre)\n",
    "lastvalues_arr =  np.array(lastvalues)\n",
    "deltaSub_arr = np.array(deltaSub)\n",
    "subvalues_arr = np.array(subvalues)\n",
    "\n",
    "for col in range(x_arr.shape[0]):\n",
    "\n",
    "    while slice_start < max(x_lengths):\n",
    "        if first_col:\n",
    "            x_slice = np.expand_dims(x_arr[col, slice_start:slice_end], axis=0)\n",
    "            sliced_x = (x_slice)\n",
    "            sliced_m = np.expand_dims(m_arr[col, slice_start:slice_end], axis=0)\n",
    "            sliced_deltaPre = np.expand_dims(deltaPre_arr[col, slice_start:slice_end], axis=0)\n",
    "            sliced_lastvalues = np.expand_dims(lastvalues_arr[col, slice_start:slice_end], axis=0)\n",
    "            sliced_deltaSub = np.expand_dims(deltaSub_arr[col, slice_start:slice_end], axis=0)\n",
    "            sliced_subvalues = np.expand_dims(subvalues_arr[col, slice_start:slice_end], axis=0)\n",
    "            slice_start = slice_end\n",
    "            slice_end += INPUT_LENGTH\n",
    "            first_col = False\n",
    "\n",
    "        x_slice = np.expand_dims(x_arr[col, slice_start:slice_end], axis=0)\n",
    "\n",
    "        sliced_x = np.concatenate((sliced_x, x_slice), axis=0)\n",
    "        sliced_m = np.concatenate((sliced_m, np.expand_dims(m_arr[col, slice_start:slice_end], axis=0)), axis=0)\n",
    "        sliced_deltaPre = (np.concatenate((sliced_deltaPre, np.expand_dims(deltaPre_arr[col, slice_start:slice_end], axis=0)), axis=0))\n",
    "        sliced_lastvalues = (np.concatenate((sliced_lastvalues, np.expand_dims(lastvalues_arr[col, slice_start:slice_end], axis=0)), axis=0))\n",
    "        sliced_deltaSub = (np.concatenate((sliced_deltaSub, np.expand_dims(deltaSub_arr[col, slice_start:slice_end], axis=0)), axis=0))\n",
    "        sliced_subvalues = (np.concatenate((sliced_subvalues, np.expand_dims(subvalues_arr[col, slice_start:slice_end], axis=0)), axis=0))\n",
    "\n",
    "        slice_start = slice_end\n",
    "        slice_end += INPUT_LENGTH\n",
    "    slice_start = 0\n",
    "    slice_end = INPUT_LENGTH\n",
    "    # sliced_lengths = np.apply_along_axis(lambda x: len(x), 1, sliced_x).squeeze().tolist()\n"
   ]
  },
  {
   "cell_type": "code",
   "execution_count": 315,
   "metadata": {},
   "outputs": [
    {
     "data": {
      "text/plain": [
       "(1250, 40, 1)"
      ]
     },
     "execution_count": 315,
     "metadata": {},
     "output_type": "execute_result"
    }
   ],
   "source": [
    "sliced_x.shape"
   ]
  },
  {
   "cell_type": "code",
   "execution_count": 27,
   "metadata": {},
   "outputs": [
    {
     "name": "stdout",
     "output_type": "stream",
     "text": [
      "1248\n",
      "40\n"
     ]
    }
   ],
   "source": [
    "print((i-1)*32)\n",
    "leftovers = len(sliced_x) - (i-1)*32\n",
    "if leftovers > 0:\n",
    "   print(i) \n",
    "    "
   ]
  },
  {
   "cell_type": "code",
   "execution_count": 130,
   "metadata": {},
   "outputs": [],
   "source": [
    "test = np.ones((32, 40, 1))"
   ]
  },
  {
   "cell_type": "code",
   "execution_count": 102,
   "metadata": {},
   "outputs": [],
   "source": [
    "res = []\n",
    "for i in range(40*32):\n",
    "    res.append(test*i)\n",
    "    i+=1\n",
    "res= np.array(res)"
   ]
  },
  {
   "cell_type": "code",
   "execution_count": 118,
   "metadata": {},
   "outputs": [],
   "source": [
    "res1 = res.T.reshape(-1, 50)"
   ]
  },
  {
   "cell_type": "code",
   "execution_count": 120,
   "metadata": {},
   "outputs": [
    {
     "data": {
      "text/plain": [
       "(1280, 40)"
      ]
     },
     "execution_count": 120,
     "metadata": {},
     "output_type": "execute_result"
    }
   ],
   "source": [
    "res.shape"
   ]
  },
  {
   "cell_type": "code",
   "execution_count": 148,
   "metadata": {},
   "outputs": [
    {
     "data": {
      "text/plain": [
       "(32, 80, 1)"
      ]
     },
     "execution_count": 148,
     "metadata": {},
     "output_type": "execute_result"
    }
   ],
   "source": [
    "test2 = np.concatenate((test, test*0), axis=0)\n",
    "test2.shape"
   ]
  },
  {
   "cell_type": "code",
   "execution_count": 265,
   "metadata": {},
   "outputs": [],
   "source": [
    "t = []\n",
    "out = []\n",
    "row = 0\n",
    "col = 0\n",
    "for ts in test:\n",
    "    if col < 50:\n",
    "        t.append(ts)\n",
    "        col += 1\n",
    "        continue\n",
    "    if row == 0:\n",
    "        out = np.array(t)\n",
    "        t = []\n",
    "        row += 1\n",
    "        col = 0\n",
    "        continue\n",
    "    col = 0\n",
    "    out = np.concatenate((out, t), axis =  0)\n",
    "    t = []\n",
    "\n",
    "    \n",
    "        "
   ]
  },
  {
   "cell_type": "code",
   "execution_count": null,
   "metadata": {},
   "outputs": [],
   "source": [
    "t"
   ]
  },
  {
   "cell_type": "code",
   "execution_count": 268,
   "metadata": {},
   "outputs": [
    {
     "name": "stdout",
     "output_type": "stream",
     "text": [
      "row=0, col=32\n"
     ]
    }
   ],
   "source": [
    "print(f'{row=}, {col=}')"
   ]
  },
  {
   "cell_type": "code",
   "execution_count": 221,
   "metadata": {},
   "outputs": [
    {
     "ename": "ValueError",
     "evalue": "all the input array dimensions for the concatenation axis must match exactly, but along dimension 0, the array at index 0 has size 50 and the array at index 1 has size 100",
     "output_type": "error",
     "traceback": [
      "\u001b[0;31m---------------------------------------------------------------------------\u001b[0m",
      "\u001b[0;31mValueError\u001b[0m                                Traceback (most recent call last)",
      "\u001b[0;32m<ipython-input-221-22a14972aa12>\u001b[0m in \u001b[0;36m<module>\u001b[0;34m\u001b[0m\n\u001b[1;32m     36\u001b[0m         \u001b[0;32mcontinue\u001b[0m\u001b[0;34m\u001b[0m\u001b[0;34m\u001b[0m\u001b[0m\n\u001b[1;32m     37\u001b[0m     \u001b[0mcol\u001b[0m \u001b[0;34m=\u001b[0m \u001b[0;36m0\u001b[0m\u001b[0;34m\u001b[0m\u001b[0;34m\u001b[0m\u001b[0m\n\u001b[0;32m---> 38\u001b[0;31m     \u001b[0mout\u001b[0m \u001b[0;34m=\u001b[0m \u001b[0mnp\u001b[0m\u001b[0;34m.\u001b[0m\u001b[0mconcatenate\u001b[0m\u001b[0;34m(\u001b[0m\u001b[0;34m(\u001b[0m\u001b[0mout\u001b[0m\u001b[0;34m,\u001b[0m \u001b[0mnp\u001b[0m\u001b[0;34m.\u001b[0m\u001b[0marray\u001b[0m\u001b[0;34m(\u001b[0m\u001b[0mt\u001b[0m\u001b[0;34m)\u001b[0m\u001b[0;34m)\u001b[0m\u001b[0;34m,\u001b[0m \u001b[0maxis\u001b[0m \u001b[0;34m=\u001b[0m \u001b[0;36m1\u001b[0m\u001b[0;34m)\u001b[0m\u001b[0;34m\u001b[0m\u001b[0;34m\u001b[0m\u001b[0m\n\u001b[0m\u001b[1;32m     39\u001b[0m     \u001b[0mt\u001b[0m \u001b[0;34m=\u001b[0m \u001b[0;34m[\u001b[0m\u001b[0;34m]\u001b[0m\u001b[0;34m\u001b[0m\u001b[0;34m\u001b[0m\u001b[0m\n",
      "\u001b[0;32m~/work-env/lib/python3.8/site-packages/numpy/core/overrides.py\u001b[0m in \u001b[0;36mconcatenate\u001b[0;34m(*args, **kwargs)\u001b[0m\n",
      "\u001b[0;31mValueError\u001b[0m: all the input array dimensions for the concatenation axis must match exactly, but along dimension 0, the array at index 0 has size 50 and the array at index 1 has size 100"
     ]
    }
   ],
   "source": [
    "for ts in test*0:\n",
    "    if col < 50:\n",
    "        t.append(ts)\n",
    "        col += 1\n",
    "        continue\n",
    "    if row == 0:\n",
    "        out = np.array(t)\n",
    "        t=[]\n",
    "        row += 1\n",
    "        col = 0\n",
    "        continue\n",
    "    col = 0\n",
    "    out = np.concatenate((out, t), axis = 1)\n",
    "    t = []\n",
    "for ts in test*2:\n",
    "    if col < 50:\n",
    "        t.append(ts)\n",
    "        col += 1\n",
    "        continue\n",
    "    if row == 0:\n",
    "        out = np.array(t)\n",
    "        t=[]\n",
    "        row += 1\n",
    "        col = 0\n",
    "        continue\n",
    "    col = 0\n",
    "    out = np.concatenate((out, t), axis = 1)\n",
    "    t = []\n",
    "for ts in test*3:\n",
    "    if col < 50:\n",
    "        t.append(ts)\n",
    "        col += 1\n",
    "        continue\n",
    "    if row == 0:\n",
    "        out = np.array(t)\n",
    "        t =[]\n",
    "        row += 1\n",
    "        col = 0\n",
    "        continue\n",
    "    col = 0\n",
    "    out = np.concatenate((out, np.array(t)), axis = 1)\n",
    "    t = []"
   ]
  },
  {
   "cell_type": "code",
   "execution_count": 273,
   "metadata": {},
   "outputs": [],
   "source": [
    "for ts in test*3:\n",
    "    if col < 50:\n",
    "        t.append(ts)\n",
    "        col += 1\n",
    "        continue\n",
    "    if row == 0:\n",
    "        out = np.array(t)\n",
    "        t = []\n",
    "        row += 1\n",
    "        col = 0\n",
    "        continue\n",
    "    col = 0\n",
    "    out = np.concatenate((out, t), axis = 1)\n",
    "    row += 1\n",
    "    t = []"
   ]
  },
  {
   "cell_type": "code",
   "execution_count": 274,
   "metadata": {},
   "outputs": [
    {
     "name": "stdout",
     "output_type": "stream",
     "text": [
      "row=1, col=26\n"
     ]
    },
    {
     "data": {
      "text/plain": [
       "(50, 80, 1)"
      ]
     },
     "execution_count": 274,
     "metadata": {},
     "output_type": "execute_result"
    }
   ],
   "source": [
    "print(f'{row=}, {col=}')\n",
    "out.shape"
   ]
  },
  {
   "cell_type": "code",
   "execution_count": 282,
   "metadata": {},
   "outputs": [
    {
     "data": {
      "text/plain": [
       "0"
      ]
     },
     "execution_count": 282,
     "metadata": {},
     "output_type": "execute_result"
    }
   ],
   "source": [
    "2 % 1"
   ]
  },
  {
   "cell_type": "code",
   "execution_count": 286,
   "metadata": {},
   "outputs": [],
   "source": [
    "len = (1000/40)*50\n"
   ]
  },
  {
   "cell_type": "code",
   "execution_count": 292,
   "metadata": {},
   "outputs": [
    {
     "data": {
      "text/plain": [
       "27.77777777777778"
      ]
     },
     "execution_count": 292,
     "metadata": {},
     "output_type": "execute_result"
    }
   ],
   "source": [
    "for ts in x_arr:\n",
    "    while slice_start < max(x_lengths):\n",
    "        "
   ]
  }
 ],
 "metadata": {
  "interpreter": {
   "hash": "24f3320ca691f06b2b8309c569bab043faa6428360c6826a39cc52510d8b37a8"
  },
  "kernelspec": {
   "display_name": "Python 3.8.10 64-bit ('work-env': venv)",
   "language": "python",
   "name": "python3"
  },
  "language_info": {
   "codemirror_mode": {
    "name": "ipython",
    "version": 3
   },
   "file_extension": ".py",
   "mimetype": "text/x-python",
   "name": "python",
   "nbconvert_exporter": "python",
   "pygments_lexer": "ipython3",
   "version": "3.8.10"
  },
  "orig_nbformat": 4
 },
 "nbformat": 4,
 "nbformat_minor": 2
}
